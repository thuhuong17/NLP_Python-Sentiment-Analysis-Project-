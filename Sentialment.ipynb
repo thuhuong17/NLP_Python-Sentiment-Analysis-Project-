{
 "cells": [
  {
   "cell_type": "code",
   "execution_count": 1,
   "id": "a8dcbad6",
   "metadata": {},
   "outputs": [],
   "source": [
    "import pandas as pd\n",
    "import numpy as np\n",
    "import json"
   ]
  },
  {
   "cell_type": "code",
   "execution_count": 2,
   "id": "ab999caa",
   "metadata": {},
   "outputs": [],
   "source": [
    "products = pd.read_csv('amazon_baby_subset.csv')"
   ]
  },
  {
   "cell_type": "code",
   "execution_count": 3,
   "id": "7713f86e",
   "metadata": {},
   "outputs": [
    {
     "data": {
      "text/html": [
       "<div>\n",
       "<style scoped>\n",
       "    .dataframe tbody tr th:only-of-type {\n",
       "        vertical-align: middle;\n",
       "    }\n",
       "\n",
       "    .dataframe tbody tr th {\n",
       "        vertical-align: top;\n",
       "    }\n",
       "\n",
       "    .dataframe thead th {\n",
       "        text-align: right;\n",
       "    }\n",
       "</style>\n",
       "<table border=\"1\" class=\"dataframe\">\n",
       "  <thead>\n",
       "    <tr style=\"text-align: right;\">\n",
       "      <th></th>\n",
       "      <th>name</th>\n",
       "      <th>review</th>\n",
       "      <th>rating</th>\n",
       "      <th>sentiment</th>\n",
       "    </tr>\n",
       "  </thead>\n",
       "  <tbody>\n",
       "    <tr>\n",
       "      <th>0</th>\n",
       "      <td>Stop Pacifier Sucking without tears with Thumb...</td>\n",
       "      <td>All of my kids have cried non-stop when I trie...</td>\n",
       "      <td>5</td>\n",
       "      <td>1</td>\n",
       "    </tr>\n",
       "    <tr>\n",
       "      <th>1</th>\n",
       "      <td>Nature's Lullabies Second Year Sticker Calendar</td>\n",
       "      <td>We wanted to get something to keep track of ou...</td>\n",
       "      <td>5</td>\n",
       "      <td>1</td>\n",
       "    </tr>\n",
       "    <tr>\n",
       "      <th>2</th>\n",
       "      <td>Nature's Lullabies Second Year Sticker Calendar</td>\n",
       "      <td>My daughter had her 1st baby over a year ago. ...</td>\n",
       "      <td>5</td>\n",
       "      <td>1</td>\n",
       "    </tr>\n",
       "    <tr>\n",
       "      <th>3</th>\n",
       "      <td>Lamaze Peekaboo, I Love You</td>\n",
       "      <td>One of baby's first and favorite books, and it...</td>\n",
       "      <td>4</td>\n",
       "      <td>1</td>\n",
       "    </tr>\n",
       "    <tr>\n",
       "      <th>4</th>\n",
       "      <td>SoftPlay Peek-A-Boo Where's Elmo A Children's ...</td>\n",
       "      <td>Very cute interactive book! My son loves this ...</td>\n",
       "      <td>5</td>\n",
       "      <td>1</td>\n",
       "    </tr>\n",
       "    <tr>\n",
       "      <th>...</th>\n",
       "      <td>...</td>\n",
       "      <td>...</td>\n",
       "      <td>...</td>\n",
       "      <td>...</td>\n",
       "    </tr>\n",
       "    <tr>\n",
       "      <th>53067</th>\n",
       "      <td>Samsung Baby Care Washer, Stainless Platinum, ...</td>\n",
       "      <td>My infant goes to a really crappy daycare, and...</td>\n",
       "      <td>1</td>\n",
       "      <td>-1</td>\n",
       "    </tr>\n",
       "    <tr>\n",
       "      <th>53068</th>\n",
       "      <td>Mud Pie Milestone Stickers, Boy</td>\n",
       "      <td>Pretty please open and inspect these stickers ...</td>\n",
       "      <td>1</td>\n",
       "      <td>-1</td>\n",
       "    </tr>\n",
       "    <tr>\n",
       "      <th>53069</th>\n",
       "      <td>Best BIB for Baby - Soft Bib (Pink-Elephant)</td>\n",
       "      <td>Great 5-Star Product but An Obvious knock-off ...</td>\n",
       "      <td>1</td>\n",
       "      <td>-1</td>\n",
       "    </tr>\n",
       "    <tr>\n",
       "      <th>53070</th>\n",
       "      <td>Bouncy&amp;reg; Inflatable Real Feel Hopping Cow</td>\n",
       "      <td>When I received the item my initial thought wa...</td>\n",
       "      <td>2</td>\n",
       "      <td>-1</td>\n",
       "    </tr>\n",
       "    <tr>\n",
       "      <th>53071</th>\n",
       "      <td>Maxboost iPhone 5S/5 Case - Protective Snap-on...</td>\n",
       "      <td>I got this case in the mail today, it came on ...</td>\n",
       "      <td>2</td>\n",
       "      <td>-1</td>\n",
       "    </tr>\n",
       "  </tbody>\n",
       "</table>\n",
       "<p>53072 rows × 4 columns</p>\n",
       "</div>"
      ],
      "text/plain": [
       "                                                    name  \\\n",
       "0      Stop Pacifier Sucking without tears with Thumb...   \n",
       "1        Nature's Lullabies Second Year Sticker Calendar   \n",
       "2        Nature's Lullabies Second Year Sticker Calendar   \n",
       "3                            Lamaze Peekaboo, I Love You   \n",
       "4      SoftPlay Peek-A-Boo Where's Elmo A Children's ...   \n",
       "...                                                  ...   \n",
       "53067  Samsung Baby Care Washer, Stainless Platinum, ...   \n",
       "53068                    Mud Pie Milestone Stickers, Boy   \n",
       "53069       Best BIB for Baby - Soft Bib (Pink-Elephant)   \n",
       "53070       Bouncy&reg; Inflatable Real Feel Hopping Cow   \n",
       "53071  Maxboost iPhone 5S/5 Case - Protective Snap-on...   \n",
       "\n",
       "                                                  review  rating  sentiment  \n",
       "0      All of my kids have cried non-stop when I trie...       5          1  \n",
       "1      We wanted to get something to keep track of ou...       5          1  \n",
       "2      My daughter had her 1st baby over a year ago. ...       5          1  \n",
       "3      One of baby's first and favorite books, and it...       4          1  \n",
       "4      Very cute interactive book! My son loves this ...       5          1  \n",
       "...                                                  ...     ...        ...  \n",
       "53067  My infant goes to a really crappy daycare, and...       1         -1  \n",
       "53068  Pretty please open and inspect these stickers ...       1         -1  \n",
       "53069  Great 5-Star Product but An Obvious knock-off ...       1         -1  \n",
       "53070  When I received the item my initial thought wa...       2         -1  \n",
       "53071  I got this case in the mail today, it came on ...       2         -1  \n",
       "\n",
       "[53072 rows x 4 columns]"
      ]
     },
     "execution_count": 3,
     "metadata": {},
     "output_type": "execute_result"
    }
   ],
   "source": [
    "products"
   ]
  },
  {
   "cell_type": "code",
   "execution_count": 4,
   "id": "7d1bed96",
   "metadata": {},
   "outputs": [
    {
     "data": {
      "text/plain": [
       "name         object\n",
       "review       object\n",
       "rating        int64\n",
       "sentiment     int64\n",
       "dtype: object"
      ]
     },
     "execution_count": 4,
     "metadata": {},
     "output_type": "execute_result"
    }
   ],
   "source": [
    "products.dtypes"
   ]
  },
  {
   "cell_type": "code",
   "execution_count": 5,
   "id": "d5c23161",
   "metadata": {},
   "outputs": [
    {
     "data": {
      "text/plain": [
       "name          90\n",
       "review       241\n",
       "rating         0\n",
       "sentiment      0\n",
       "dtype: int64"
      ]
     },
     "execution_count": 5,
     "metadata": {},
     "output_type": "execute_result"
    }
   ],
   "source": [
    "products.isna().sum()"
   ]
  },
  {
   "cell_type": "code",
   "execution_count": 6,
   "id": "df308c8d",
   "metadata": {},
   "outputs": [],
   "source": [
    "products.dropna(inplace = True)"
   ]
  },
  {
   "cell_type": "code",
   "execution_count": 7,
   "id": "90b88214",
   "metadata": {},
   "outputs": [
    {
     "data": {
      "text/plain": [
       "name         0\n",
       "review       0\n",
       "rating       0\n",
       "sentiment    0\n",
       "dtype: int64"
      ]
     },
     "execution_count": 7,
     "metadata": {},
     "output_type": "execute_result"
    }
   ],
   "source": [
    "products.isna().sum()"
   ]
  },
  {
   "cell_type": "code",
   "execution_count": 8,
   "id": "ba63a60a",
   "metadata": {},
   "outputs": [
    {
     "data": {
      "text/plain": [
       "(52741, 4)"
      ]
     },
     "execution_count": 8,
     "metadata": {},
     "output_type": "execute_result"
    }
   ],
   "source": [
    "products.shape"
   ]
  },
  {
   "cell_type": "code",
   "execution_count": 9,
   "id": "0b647791",
   "metadata": {},
   "outputs": [
    {
     "name": "stdout",
     "output_type": "stream",
     "text": [
      "Number od positive reviews: 26380\n",
      "Number od negative reviews: 26361\n"
     ]
    }
   ],
   "source": [
    "print(\"Number od positive reviews:\", sum(products[\"sentiment\"]==1))\n",
    "print(\"Number od negative reviews:\", sum(products[\"sentiment\"]==-1))"
   ]
  },
  {
   "cell_type": "code",
   "execution_count": 10,
   "id": "46886527",
   "metadata": {},
   "outputs": [
    {
     "name": "stdout",
     "output_type": "stream",
     "text": [
      "['baby', 'one', 'great', 'love', 'use', 'would', 'like', 'easy', 'little', 'seat', 'old', 'well', 'get', 'also', 'really', 'son', 'time', 'bought', 'product', 'good', 'daughter', 'much', 'loves', 'stroller', 'put', 'months', 'car', 'still', 'back', 'used', 'recommend', 'first', 'even', 'perfect', 'nice', 'bag', 'two', 'using', 'got', 'fit', 'around', 'diaper', 'enough', 'month', 'price', 'go', 'could', 'soft', 'since', 'buy', 'room', 'works', 'made', 'child', 'keep', 'size', 'small', 'need', 'year', 'big', 'make', 'take', 'easily', 'think', 'crib', 'clean', 'way', 'quality', 'thing', 'better', 'without', 'set', 'new', 'every', 'cute', 'best', 'bottles', 'work', 'purchased', 'right', 'lot', 'side', 'happy', 'comfortable', 'toy', 'able', 'kids', 'bit', 'night', 'long', 'fits', 'see', 'us', 'another', 'play', 'day', 'money', 'monitor', 'tried', 'thought', 'never', 'item', 'hard', 'plastic', 'however', 'disappointed', 'reviews', 'something', 'going', 'pump', 'bottle', 'cup', 'waste', 'return', 'amazon', 'different', 'top', 'want', 'problem', 'know', 'water', 'try', 'received', 'sure', 'times', 'chair', 'find', 'hold', 'gate', 'open', 'bottom', 'away', 'actually', 'cheap', 'worked', 'getting', 'ordered', 'came', 'milk', 'bad', 'part', 'worth', 'found', 'cover', 'many', 'design', 'looking', 'weeks', 'say', 'wanted', 'look', 'place', 'purchase', 'looks', 'second', 'piece', 'box', 'pretty', 'trying', 'difficult', 'together', 'though', 'give', 'started', 'anything', 'last', 'company', 'come', 'returned', 'maybe', 'took', 'broke', 'makes', 'stay', 'instead', 'idea', 'head', 'said', 'less', 'went', 'working', 'high', 'unit', 'seems', 'picture', 'completely', 'wish', 'buying', 'babies', 'won', 'tub', 'almost', 'either']\n"
     ]
    }
   ],
   "source": [
    "with open(\"important_words.json\", \"r\") as f:\n",
    "    important_words = json.load(f)\n",
    "print(important_words)"
   ]
  },
  {
   "cell_type": "code",
   "execution_count": 11,
   "id": "c9c2a9a4",
   "metadata": {},
   "outputs": [
    {
     "data": {
      "text/plain": [
       "193"
      ]
     },
     "execution_count": 11,
     "metadata": {},
     "output_type": "execute_result"
    }
   ],
   "source": [
    "len(important_words)"
   ]
  },
  {
   "cell_type": "code",
   "execution_count": 12,
   "id": "714675ea",
   "metadata": {},
   "outputs": [
    {
     "data": {
      "text/plain": [
       "'We found this book at a rummage sale and found it to be so useful, especially when several people are helping with the baby (ex: visiting family, etc.)  We loved it so much that I\\'ve bought another one and have almost filled that one too.  I like having the room to write things about our baby\\'s day and development, plus use the \"Notes\" section to write some story, etc.  It also helps \"Dad\" see what has happened that day and feels more connected.  I will be buying another one soon!'"
      ]
     },
     "execution_count": 12,
     "metadata": {},
     "output_type": "execute_result"
    }
   ],
   "source": [
    "products[\"review\"][10]"
   ]
  },
  {
   "cell_type": "code",
   "execution_count": 13,
   "id": "c19b56e7",
   "metadata": {},
   "outputs": [
    {
     "data": {
      "text/plain": [
       "'!\"#$%&\\'()*+,-./:;<=>?@[\\\\]^_`{|}~'"
      ]
     },
     "execution_count": 13,
     "metadata": {},
     "output_type": "execute_result"
    }
   ],
   "source": [
    "import string\n",
    "string.punctuation"
   ]
  },
  {
   "cell_type": "code",
   "execution_count": 15,
   "id": "5b6dc6ed",
   "metadata": {},
   "outputs": [],
   "source": [
    "def remove_punctuation(text):\n",
    "    import string\n",
    "    return text.translate(str.maketrans(\"\", \"\", string.punctuation))\n"
   ]
  },
  {
   "cell_type": "code",
   "execution_count": 16,
   "id": "9ac386f2",
   "metadata": {},
   "outputs": [],
   "source": [
    "products[\"review_clean\"] = products[\"review\"].apply(remove_punctuation)"
   ]
  },
  {
   "cell_type": "code",
   "execution_count": 17,
   "id": "dcdbc312",
   "metadata": {},
   "outputs": [
    {
     "data": {
      "text/html": [
       "<div>\n",
       "<style scoped>\n",
       "    .dataframe tbody tr th:only-of-type {\n",
       "        vertical-align: middle;\n",
       "    }\n",
       "\n",
       "    .dataframe tbody tr th {\n",
       "        vertical-align: top;\n",
       "    }\n",
       "\n",
       "    .dataframe thead th {\n",
       "        text-align: right;\n",
       "    }\n",
       "</style>\n",
       "<table border=\"1\" class=\"dataframe\">\n",
       "  <thead>\n",
       "    <tr style=\"text-align: right;\">\n",
       "      <th></th>\n",
       "      <th>name</th>\n",
       "      <th>review</th>\n",
       "      <th>rating</th>\n",
       "      <th>sentiment</th>\n",
       "      <th>review_clean</th>\n",
       "    </tr>\n",
       "  </thead>\n",
       "  <tbody>\n",
       "    <tr>\n",
       "      <th>0</th>\n",
       "      <td>Stop Pacifier Sucking without tears with Thumb...</td>\n",
       "      <td>All of my kids have cried non-stop when I trie...</td>\n",
       "      <td>5</td>\n",
       "      <td>1</td>\n",
       "      <td>All of my kids have cried nonstop when I tried...</td>\n",
       "    </tr>\n",
       "    <tr>\n",
       "      <th>1</th>\n",
       "      <td>Nature's Lullabies Second Year Sticker Calendar</td>\n",
       "      <td>We wanted to get something to keep track of ou...</td>\n",
       "      <td>5</td>\n",
       "      <td>1</td>\n",
       "      <td>We wanted to get something to keep track of ou...</td>\n",
       "    </tr>\n",
       "    <tr>\n",
       "      <th>2</th>\n",
       "      <td>Nature's Lullabies Second Year Sticker Calendar</td>\n",
       "      <td>My daughter had her 1st baby over a year ago. ...</td>\n",
       "      <td>5</td>\n",
       "      <td>1</td>\n",
       "      <td>My daughter had her 1st baby over a year ago S...</td>\n",
       "    </tr>\n",
       "    <tr>\n",
       "      <th>3</th>\n",
       "      <td>Lamaze Peekaboo, I Love You</td>\n",
       "      <td>One of baby's first and favorite books, and it...</td>\n",
       "      <td>4</td>\n",
       "      <td>1</td>\n",
       "      <td>One of babys first and favorite books and it i...</td>\n",
       "    </tr>\n",
       "    <tr>\n",
       "      <th>4</th>\n",
       "      <td>SoftPlay Peek-A-Boo Where's Elmo A Children's ...</td>\n",
       "      <td>Very cute interactive book! My son loves this ...</td>\n",
       "      <td>5</td>\n",
       "      <td>1</td>\n",
       "      <td>Very cute interactive book My son loves this b...</td>\n",
       "    </tr>\n",
       "    <tr>\n",
       "      <th>...</th>\n",
       "      <td>...</td>\n",
       "      <td>...</td>\n",
       "      <td>...</td>\n",
       "      <td>...</td>\n",
       "      <td>...</td>\n",
       "    </tr>\n",
       "    <tr>\n",
       "      <th>53067</th>\n",
       "      <td>Samsung Baby Care Washer, Stainless Platinum, ...</td>\n",
       "      <td>My infant goes to a really crappy daycare, and...</td>\n",
       "      <td>1</td>\n",
       "      <td>-1</td>\n",
       "      <td>My infant goes to a really crappy daycare and ...</td>\n",
       "    </tr>\n",
       "    <tr>\n",
       "      <th>53068</th>\n",
       "      <td>Mud Pie Milestone Stickers, Boy</td>\n",
       "      <td>Pretty please open and inspect these stickers ...</td>\n",
       "      <td>1</td>\n",
       "      <td>-1</td>\n",
       "      <td>Pretty please open and inspect these stickers ...</td>\n",
       "    </tr>\n",
       "    <tr>\n",
       "      <th>53069</th>\n",
       "      <td>Best BIB for Baby - Soft Bib (Pink-Elephant)</td>\n",
       "      <td>Great 5-Star Product but An Obvious knock-off ...</td>\n",
       "      <td>1</td>\n",
       "      <td>-1</td>\n",
       "      <td>Great 5Star Product but An Obvious knockoff of...</td>\n",
       "    </tr>\n",
       "    <tr>\n",
       "      <th>53070</th>\n",
       "      <td>Bouncy&amp;reg; Inflatable Real Feel Hopping Cow</td>\n",
       "      <td>When I received the item my initial thought wa...</td>\n",
       "      <td>2</td>\n",
       "      <td>-1</td>\n",
       "      <td>When I received the item my initial thought wa...</td>\n",
       "    </tr>\n",
       "    <tr>\n",
       "      <th>53071</th>\n",
       "      <td>Maxboost iPhone 5S/5 Case - Protective Snap-on...</td>\n",
       "      <td>I got this case in the mail today, it came on ...</td>\n",
       "      <td>2</td>\n",
       "      <td>-1</td>\n",
       "      <td>I got this case in the mail today it came on t...</td>\n",
       "    </tr>\n",
       "  </tbody>\n",
       "</table>\n",
       "<p>52741 rows × 5 columns</p>\n",
       "</div>"
      ],
      "text/plain": [
       "                                                    name  \\\n",
       "0      Stop Pacifier Sucking without tears with Thumb...   \n",
       "1        Nature's Lullabies Second Year Sticker Calendar   \n",
       "2        Nature's Lullabies Second Year Sticker Calendar   \n",
       "3                            Lamaze Peekaboo, I Love You   \n",
       "4      SoftPlay Peek-A-Boo Where's Elmo A Children's ...   \n",
       "...                                                  ...   \n",
       "53067  Samsung Baby Care Washer, Stainless Platinum, ...   \n",
       "53068                    Mud Pie Milestone Stickers, Boy   \n",
       "53069       Best BIB for Baby - Soft Bib (Pink-Elephant)   \n",
       "53070       Bouncy&reg; Inflatable Real Feel Hopping Cow   \n",
       "53071  Maxboost iPhone 5S/5 Case - Protective Snap-on...   \n",
       "\n",
       "                                                  review  rating  sentiment  \\\n",
       "0      All of my kids have cried non-stop when I trie...       5          1   \n",
       "1      We wanted to get something to keep track of ou...       5          1   \n",
       "2      My daughter had her 1st baby over a year ago. ...       5          1   \n",
       "3      One of baby's first and favorite books, and it...       4          1   \n",
       "4      Very cute interactive book! My son loves this ...       5          1   \n",
       "...                                                  ...     ...        ...   \n",
       "53067  My infant goes to a really crappy daycare, and...       1         -1   \n",
       "53068  Pretty please open and inspect these stickers ...       1         -1   \n",
       "53069  Great 5-Star Product but An Obvious knock-off ...       1         -1   \n",
       "53070  When I received the item my initial thought wa...       2         -1   \n",
       "53071  I got this case in the mail today, it came on ...       2         -1   \n",
       "\n",
       "                                            review_clean  \n",
       "0      All of my kids have cried nonstop when I tried...  \n",
       "1      We wanted to get something to keep track of ou...  \n",
       "2      My daughter had her 1st baby over a year ago S...  \n",
       "3      One of babys first and favorite books and it i...  \n",
       "4      Very cute interactive book My son loves this b...  \n",
       "...                                                  ...  \n",
       "53067  My infant goes to a really crappy daycare and ...  \n",
       "53068  Pretty please open and inspect these stickers ...  \n",
       "53069  Great 5Star Product but An Obvious knockoff of...  \n",
       "53070  When I received the item my initial thought wa...  \n",
       "53071  I got this case in the mail today it came on t...  \n",
       "\n",
       "[52741 rows x 5 columns]"
      ]
     },
     "execution_count": 17,
     "metadata": {},
     "output_type": "execute_result"
    }
   ],
   "source": [
    "products"
   ]
  },
  {
   "cell_type": "code",
   "execution_count": 18,
   "id": "797e7354",
   "metadata": {},
   "outputs": [
    {
     "data": {
      "text/plain": [
       "'This product was exactly what I needed I could not find one locally  my only choice was to drive to another larger town'"
      ]
     },
     "execution_count": 18,
     "metadata": {},
     "output_type": "execute_result"
    }
   ],
   "source": [
    "products[\"review_clean\"][100]"
   ]
  },
  {
   "cell_type": "code",
   "execution_count": 19,
   "id": "a7e172fc",
   "metadata": {},
   "outputs": [
    {
     "data": {
      "text/plain": [
       "0        0\n",
       "1        0\n",
       "2        1\n",
       "3        1\n",
       "4        0\n",
       "        ..\n",
       "53067    2\n",
       "53068    0\n",
       "53069    0\n",
       "53070    0\n",
       "53071    0\n",
       "Name: review_clean, Length: 52741, dtype: int64"
      ]
     },
     "execution_count": 19,
     "metadata": {},
     "output_type": "execute_result"
    }
   ],
   "source": [
    "products[\"review_clean\"].str.count(\"baby\")"
   ]
  },
  {
   "cell_type": "code",
   "execution_count": 20,
   "id": "2fa89d1c",
   "metadata": {},
   "outputs": [
    {
     "name": "stdout",
     "output_type": "stream",
     "text": [
      "['baby', 'one', 'great', 'love', 'use', 'would', 'like', 'easy', 'little', 'seat', 'old', 'well', 'get', 'also', 'really', 'son', 'time', 'bought', 'product', 'good', 'daughter', 'much', 'loves', 'stroller', 'put', 'months', 'car', 'still', 'back', 'used', 'recommend', 'first', 'even', 'perfect', 'nice', 'bag', 'two', 'using', 'got', 'fit', 'around', 'diaper', 'enough', 'month', 'price', 'go', 'could', 'soft', 'since', 'buy', 'room', 'works', 'made', 'child', 'keep', 'size', 'small', 'need', 'year', 'big', 'make', 'take', 'easily', 'think', 'crib', 'clean', 'way', 'quality', 'thing', 'better', 'without', 'set', 'new', 'every', 'cute', 'best', 'bottles', 'work', 'purchased', 'right', 'lot', 'side', 'happy', 'comfortable', 'toy', 'able', 'kids', 'bit', 'night', 'long', 'fits', 'see', 'us', 'another', 'play', 'day', 'money', 'monitor', 'tried', 'thought', 'never', 'item', 'hard', 'plastic', 'however', 'disappointed', 'reviews', 'something', 'going', 'pump', 'bottle', 'cup', 'waste', 'return', 'amazon', 'different', 'top', 'want', 'problem', 'know', 'water', 'try', 'received', 'sure', 'times', 'chair', 'find', 'hold', 'gate', 'open', 'bottom', 'away', 'actually', 'cheap', 'worked', 'getting', 'ordered', 'came', 'milk', 'bad', 'part', 'worth', 'found', 'cover', 'many', 'design', 'looking', 'weeks', 'say', 'wanted', 'look', 'place', 'purchase', 'looks', 'second', 'piece', 'box', 'pretty', 'trying', 'difficult', 'together', 'though', 'give', 'started', 'anything', 'last', 'company', 'come', 'returned', 'maybe', 'took', 'broke', 'makes', 'stay', 'instead', 'idea', 'head', 'said', 'less', 'went', 'working', 'high', 'unit', 'seems', 'picture', 'completely', 'wish', 'buying', 'babies', 'won', 'tub', 'almost', 'either']\n"
     ]
    }
   ],
   "source": [
    "print(important_words)"
   ]
  },
  {
   "cell_type": "code",
   "execution_count": 30,
   "id": "242c50a6",
   "metadata": {},
   "outputs": [],
   "source": [
    "# Tính toán số lần cho số lần xảy ra trong đánh giá\n",
    "for word in important_words:\n",
    "    products[word] = products['review_clean'].str.count(word)"
   ]
  },
  {
   "cell_type": "code",
   "execution_count": 31,
   "id": "3e4c2826",
   "metadata": {},
   "outputs": [
    {
     "data": {
      "text/html": [
       "<div>\n",
       "<style scoped>\n",
       "    .dataframe tbody tr th:only-of-type {\n",
       "        vertical-align: middle;\n",
       "    }\n",
       "\n",
       "    .dataframe tbody tr th {\n",
       "        vertical-align: top;\n",
       "    }\n",
       "\n",
       "    .dataframe thead th {\n",
       "        text-align: right;\n",
       "    }\n",
       "</style>\n",
       "<table border=\"1\" class=\"dataframe\">\n",
       "  <thead>\n",
       "    <tr style=\"text-align: right;\">\n",
       "      <th></th>\n",
       "      <th>name</th>\n",
       "      <th>review</th>\n",
       "      <th>rating</th>\n",
       "      <th>sentiment</th>\n",
       "      <th>review_clean</th>\n",
       "      <th>baby</th>\n",
       "      <th>one</th>\n",
       "      <th>great</th>\n",
       "      <th>love</th>\n",
       "      <th>use</th>\n",
       "      <th>...</th>\n",
       "      <th>seems</th>\n",
       "      <th>picture</th>\n",
       "      <th>completely</th>\n",
       "      <th>wish</th>\n",
       "      <th>buying</th>\n",
       "      <th>babies</th>\n",
       "      <th>won</th>\n",
       "      <th>tub</th>\n",
       "      <th>almost</th>\n",
       "      <th>either</th>\n",
       "    </tr>\n",
       "  </thead>\n",
       "  <tbody>\n",
       "    <tr>\n",
       "      <th>0</th>\n",
       "      <td>Stop Pacifier Sucking without tears with Thumb...</td>\n",
       "      <td>All of my kids have cried non-stop when I trie...</td>\n",
       "      <td>5</td>\n",
       "      <td>1</td>\n",
       "      <td>All of my kids have cried nonstop when I tried...</td>\n",
       "      <td>0</td>\n",
       "      <td>0</td>\n",
       "      <td>1</td>\n",
       "      <td>0</td>\n",
       "      <td>0</td>\n",
       "      <td>...</td>\n",
       "      <td>0</td>\n",
       "      <td>0</td>\n",
       "      <td>0</td>\n",
       "      <td>0</td>\n",
       "      <td>0</td>\n",
       "      <td>0</td>\n",
       "      <td>0</td>\n",
       "      <td>0</td>\n",
       "      <td>0</td>\n",
       "      <td>0</td>\n",
       "    </tr>\n",
       "    <tr>\n",
       "      <th>1</th>\n",
       "      <td>Nature's Lullabies Second Year Sticker Calendar</td>\n",
       "      <td>We wanted to get something to keep track of ou...</td>\n",
       "      <td>5</td>\n",
       "      <td>1</td>\n",
       "      <td>We wanted to get something to keep track of ou...</td>\n",
       "      <td>0</td>\n",
       "      <td>1</td>\n",
       "      <td>0</td>\n",
       "      <td>0</td>\n",
       "      <td>0</td>\n",
       "      <td>...</td>\n",
       "      <td>0</td>\n",
       "      <td>0</td>\n",
       "      <td>0</td>\n",
       "      <td>0</td>\n",
       "      <td>0</td>\n",
       "      <td>0</td>\n",
       "      <td>0</td>\n",
       "      <td>0</td>\n",
       "      <td>0</td>\n",
       "      <td>0</td>\n",
       "    </tr>\n",
       "    <tr>\n",
       "      <th>2</th>\n",
       "      <td>Nature's Lullabies Second Year Sticker Calendar</td>\n",
       "      <td>My daughter had her 1st baby over a year ago. ...</td>\n",
       "      <td>5</td>\n",
       "      <td>1</td>\n",
       "      <td>My daughter had her 1st baby over a year ago S...</td>\n",
       "      <td>1</td>\n",
       "      <td>2</td>\n",
       "      <td>0</td>\n",
       "      <td>0</td>\n",
       "      <td>0</td>\n",
       "      <td>...</td>\n",
       "      <td>0</td>\n",
       "      <td>0</td>\n",
       "      <td>0</td>\n",
       "      <td>0</td>\n",
       "      <td>0</td>\n",
       "      <td>0</td>\n",
       "      <td>1</td>\n",
       "      <td>0</td>\n",
       "      <td>0</td>\n",
       "      <td>0</td>\n",
       "    </tr>\n",
       "    <tr>\n",
       "      <th>3</th>\n",
       "      <td>Lamaze Peekaboo, I Love You</td>\n",
       "      <td>One of baby's first and favorite books, and it...</td>\n",
       "      <td>4</td>\n",
       "      <td>1</td>\n",
       "      <td>One of babys first and favorite books and it i...</td>\n",
       "      <td>1</td>\n",
       "      <td>0</td>\n",
       "      <td>0</td>\n",
       "      <td>0</td>\n",
       "      <td>1</td>\n",
       "      <td>...</td>\n",
       "      <td>0</td>\n",
       "      <td>0</td>\n",
       "      <td>0</td>\n",
       "      <td>0</td>\n",
       "      <td>0</td>\n",
       "      <td>0</td>\n",
       "      <td>0</td>\n",
       "      <td>0</td>\n",
       "      <td>0</td>\n",
       "      <td>0</td>\n",
       "    </tr>\n",
       "    <tr>\n",
       "      <th>4</th>\n",
       "      <td>SoftPlay Peek-A-Boo Where's Elmo A Children's ...</td>\n",
       "      <td>Very cute interactive book! My son loves this ...</td>\n",
       "      <td>5</td>\n",
       "      <td>1</td>\n",
       "      <td>Very cute interactive book My son loves this b...</td>\n",
       "      <td>0</td>\n",
       "      <td>0</td>\n",
       "      <td>1</td>\n",
       "      <td>1</td>\n",
       "      <td>0</td>\n",
       "      <td>...</td>\n",
       "      <td>0</td>\n",
       "      <td>0</td>\n",
       "      <td>0</td>\n",
       "      <td>0</td>\n",
       "      <td>0</td>\n",
       "      <td>1</td>\n",
       "      <td>0</td>\n",
       "      <td>0</td>\n",
       "      <td>0</td>\n",
       "      <td>0</td>\n",
       "    </tr>\n",
       "    <tr>\n",
       "      <th>...</th>\n",
       "      <td>...</td>\n",
       "      <td>...</td>\n",
       "      <td>...</td>\n",
       "      <td>...</td>\n",
       "      <td>...</td>\n",
       "      <td>...</td>\n",
       "      <td>...</td>\n",
       "      <td>...</td>\n",
       "      <td>...</td>\n",
       "      <td>...</td>\n",
       "      <td>...</td>\n",
       "      <td>...</td>\n",
       "      <td>...</td>\n",
       "      <td>...</td>\n",
       "      <td>...</td>\n",
       "      <td>...</td>\n",
       "      <td>...</td>\n",
       "      <td>...</td>\n",
       "      <td>...</td>\n",
       "      <td>...</td>\n",
       "      <td>...</td>\n",
       "    </tr>\n",
       "    <tr>\n",
       "      <th>53067</th>\n",
       "      <td>Samsung Baby Care Washer, Stainless Platinum, ...</td>\n",
       "      <td>My infant goes to a really crappy daycare, and...</td>\n",
       "      <td>1</td>\n",
       "      <td>-1</td>\n",
       "      <td>My infant goes to a really crappy daycare and ...</td>\n",
       "      <td>2</td>\n",
       "      <td>0</td>\n",
       "      <td>0</td>\n",
       "      <td>0</td>\n",
       "      <td>0</td>\n",
       "      <td>...</td>\n",
       "      <td>0</td>\n",
       "      <td>0</td>\n",
       "      <td>0</td>\n",
       "      <td>0</td>\n",
       "      <td>0</td>\n",
       "      <td>0</td>\n",
       "      <td>0</td>\n",
       "      <td>0</td>\n",
       "      <td>0</td>\n",
       "      <td>0</td>\n",
       "    </tr>\n",
       "    <tr>\n",
       "      <th>53068</th>\n",
       "      <td>Mud Pie Milestone Stickers, Boy</td>\n",
       "      <td>Pretty please open and inspect these stickers ...</td>\n",
       "      <td>1</td>\n",
       "      <td>-1</td>\n",
       "      <td>Pretty please open and inspect these stickers ...</td>\n",
       "      <td>0</td>\n",
       "      <td>0</td>\n",
       "      <td>0</td>\n",
       "      <td>0</td>\n",
       "      <td>0</td>\n",
       "      <td>...</td>\n",
       "      <td>0</td>\n",
       "      <td>0</td>\n",
       "      <td>0</td>\n",
       "      <td>0</td>\n",
       "      <td>0</td>\n",
       "      <td>0</td>\n",
       "      <td>0</td>\n",
       "      <td>0</td>\n",
       "      <td>0</td>\n",
       "      <td>0</td>\n",
       "    </tr>\n",
       "    <tr>\n",
       "      <th>53069</th>\n",
       "      <td>Best BIB for Baby - Soft Bib (Pink-Elephant)</td>\n",
       "      <td>Great 5-Star Product but An Obvious knock-off ...</td>\n",
       "      <td>1</td>\n",
       "      <td>-1</td>\n",
       "      <td>Great 5Star Product but An Obvious knockoff of...</td>\n",
       "      <td>0</td>\n",
       "      <td>2</td>\n",
       "      <td>0</td>\n",
       "      <td>0</td>\n",
       "      <td>1</td>\n",
       "      <td>...</td>\n",
       "      <td>0</td>\n",
       "      <td>0</td>\n",
       "      <td>0</td>\n",
       "      <td>0</td>\n",
       "      <td>0</td>\n",
       "      <td>0</td>\n",
       "      <td>1</td>\n",
       "      <td>0</td>\n",
       "      <td>0</td>\n",
       "      <td>0</td>\n",
       "    </tr>\n",
       "    <tr>\n",
       "      <th>53070</th>\n",
       "      <td>Bouncy&amp;reg; Inflatable Real Feel Hopping Cow</td>\n",
       "      <td>When I received the item my initial thought wa...</td>\n",
       "      <td>2</td>\n",
       "      <td>-1</td>\n",
       "      <td>When I received the item my initial thought wa...</td>\n",
       "      <td>0</td>\n",
       "      <td>1</td>\n",
       "      <td>0</td>\n",
       "      <td>0</td>\n",
       "      <td>1</td>\n",
       "      <td>...</td>\n",
       "      <td>0</td>\n",
       "      <td>0</td>\n",
       "      <td>0</td>\n",
       "      <td>0</td>\n",
       "      <td>0</td>\n",
       "      <td>0</td>\n",
       "      <td>0</td>\n",
       "      <td>0</td>\n",
       "      <td>0</td>\n",
       "      <td>0</td>\n",
       "    </tr>\n",
       "    <tr>\n",
       "      <th>53071</th>\n",
       "      <td>Maxboost iPhone 5S/5 Case - Protective Snap-on...</td>\n",
       "      <td>I got this case in the mail today, it came on ...</td>\n",
       "      <td>2</td>\n",
       "      <td>-1</td>\n",
       "      <td>I got this case in the mail today it came on t...</td>\n",
       "      <td>0</td>\n",
       "      <td>0</td>\n",
       "      <td>0</td>\n",
       "      <td>0</td>\n",
       "      <td>0</td>\n",
       "      <td>...</td>\n",
       "      <td>0</td>\n",
       "      <td>2</td>\n",
       "      <td>1</td>\n",
       "      <td>0</td>\n",
       "      <td>0</td>\n",
       "      <td>0</td>\n",
       "      <td>0</td>\n",
       "      <td>0</td>\n",
       "      <td>0</td>\n",
       "      <td>0</td>\n",
       "    </tr>\n",
       "  </tbody>\n",
       "</table>\n",
       "<p>52741 rows × 198 columns</p>\n",
       "</div>"
      ],
      "text/plain": [
       "                                                    name  \\\n",
       "0      Stop Pacifier Sucking without tears with Thumb...   \n",
       "1        Nature's Lullabies Second Year Sticker Calendar   \n",
       "2        Nature's Lullabies Second Year Sticker Calendar   \n",
       "3                            Lamaze Peekaboo, I Love You   \n",
       "4      SoftPlay Peek-A-Boo Where's Elmo A Children's ...   \n",
       "...                                                  ...   \n",
       "53067  Samsung Baby Care Washer, Stainless Platinum, ...   \n",
       "53068                    Mud Pie Milestone Stickers, Boy   \n",
       "53069       Best BIB for Baby - Soft Bib (Pink-Elephant)   \n",
       "53070       Bouncy&reg; Inflatable Real Feel Hopping Cow   \n",
       "53071  Maxboost iPhone 5S/5 Case - Protective Snap-on...   \n",
       "\n",
       "                                                  review  rating  sentiment  \\\n",
       "0      All of my kids have cried non-stop when I trie...       5          1   \n",
       "1      We wanted to get something to keep track of ou...       5          1   \n",
       "2      My daughter had her 1st baby over a year ago. ...       5          1   \n",
       "3      One of baby's first and favorite books, and it...       4          1   \n",
       "4      Very cute interactive book! My son loves this ...       5          1   \n",
       "...                                                  ...     ...        ...   \n",
       "53067  My infant goes to a really crappy daycare, and...       1         -1   \n",
       "53068  Pretty please open and inspect these stickers ...       1         -1   \n",
       "53069  Great 5-Star Product but An Obvious knock-off ...       1         -1   \n",
       "53070  When I received the item my initial thought wa...       2         -1   \n",
       "53071  I got this case in the mail today, it came on ...       2         -1   \n",
       "\n",
       "                                            review_clean  baby  one  great  \\\n",
       "0      All of my kids have cried nonstop when I tried...     0    0      1   \n",
       "1      We wanted to get something to keep track of ou...     0    1      0   \n",
       "2      My daughter had her 1st baby over a year ago S...     1    2      0   \n",
       "3      One of babys first and favorite books and it i...     1    0      0   \n",
       "4      Very cute interactive book My son loves this b...     0    0      1   \n",
       "...                                                  ...   ...  ...    ...   \n",
       "53067  My infant goes to a really crappy daycare and ...     2    0      0   \n",
       "53068  Pretty please open and inspect these stickers ...     0    0      0   \n",
       "53069  Great 5Star Product but An Obvious knockoff of...     0    2      0   \n",
       "53070  When I received the item my initial thought wa...     0    1      0   \n",
       "53071  I got this case in the mail today it came on t...     0    0      0   \n",
       "\n",
       "       love  use  ...  seems  picture  completely  wish  buying  babies  won  \\\n",
       "0         0    0  ...      0        0           0     0       0       0    0   \n",
       "1         0    0  ...      0        0           0     0       0       0    0   \n",
       "2         0    0  ...      0        0           0     0       0       0    1   \n",
       "3         0    1  ...      0        0           0     0       0       0    0   \n",
       "4         1    0  ...      0        0           0     0       0       1    0   \n",
       "...     ...  ...  ...    ...      ...         ...   ...     ...     ...  ...   \n",
       "53067     0    0  ...      0        0           0     0       0       0    0   \n",
       "53068     0    0  ...      0        0           0     0       0       0    0   \n",
       "53069     0    1  ...      0        0           0     0       0       0    1   \n",
       "53070     0    1  ...      0        0           0     0       0       0    0   \n",
       "53071     0    0  ...      0        2           1     0       0       0    0   \n",
       "\n",
       "       tub  almost  either  \n",
       "0        0       0       0  \n",
       "1        0       0       0  \n",
       "2        0       0       0  \n",
       "3        0       0       0  \n",
       "4        0       0       0  \n",
       "...    ...     ...     ...  \n",
       "53067    0       0       0  \n",
       "53068    0       0       0  \n",
       "53069    0       0       0  \n",
       "53070    0       0       0  \n",
       "53071    0       0       0  \n",
       "\n",
       "[52741 rows x 198 columns]"
      ]
     },
     "execution_count": 31,
     "metadata": {},
     "output_type": "execute_result"
    }
   ],
   "source": [
    "products"
   ]
  },
  {
   "cell_type": "code",
   "execution_count": 33,
   "id": "ea12af4f",
   "metadata": {},
   "outputs": [],
   "source": [
    "from sklearn.model_selection import train_test_split\n",
    "train_data, validation_data = train_test_split(products, test_size=0.2, random_state = 1)"
   ]
  },
  {
   "cell_type": "code",
   "execution_count": 34,
   "id": "e4eb339d",
   "metadata": {},
   "outputs": [
    {
     "name": "stdout",
     "output_type": "stream",
     "text": [
      "(42192, 198)\n",
      "(10549, 198)\n",
      "(52741, 198)\n"
     ]
    }
   ],
   "source": [
    "print(train_data.shape)\n",
    "print(validation_data.shape)\n",
    "print(products.shape)"
   ]
  },
  {
   "cell_type": "code",
   "execution_count": 35,
   "id": "5dddb9e8",
   "metadata": {},
   "outputs": [],
   "source": [
    "def get_numpy_data(df, features, label):\n",
    "    df[\"intercept\"] = 1\n",
    "    features = [\"intercept\"] + features\n",
    "    #chuyển đổi khung dữ liệu thành numpy\n",
    "    feature_matrix = df[features].values\n",
    "    label_array = df[label].values\n",
    "    return (feature_matrix, label_array)"
   ]
  },
  {
   "cell_type": "code",
   "execution_count": 36,
   "id": "817ff76a",
   "metadata": {},
   "outputs": [
    {
     "data": {
      "text/plain": [
       "(42192, 194)"
      ]
     },
     "execution_count": 36,
     "metadata": {},
     "output_type": "execute_result"
    }
   ],
   "source": [
    "feature_matrix, sentiment = get_numpy_data(train_data, important_words, \"sentiment\")\n",
    "feature_matrix.shape"
   ]
  },
  {
   "cell_type": "code",
   "execution_count": 55,
   "id": "073a9f0d",
   "metadata": {},
   "outputs": [],
   "source": [
    "def predict_probability(coefficients, feature_matrix):\n",
    "    # Compute P(y_i = +1 | x_i, w) using the link function\n",
    "    predictions = 1/(1+np.exp(-np.dot(coefficients, feature_matrix)))\n",
    "    return predictions"
   ]
  },
  {
   "cell_type": "code",
   "execution_count": 40,
   "id": "80e9e718",
   "metadata": {},
   "outputs": [
    {
     "data": {
      "image/png": "[encoded data removed]",
      "text/plain": [
       "<IPython.core.display.Image object>"
      ]
     },
     "execution_count": 40,
     "metadata": {},
     "output_type": "execute_result"
    }
   ],
   "source": [
    "from IPython.display import Image\n",
    "Image(filename='pic1.png')"
   ]
  },
  {
   "cell_type": "code",
   "execution_count": 75,
   "id": "97e350ff",
   "metadata": {},
   "outputs": [],
   "source": [
    "#Tính đọa hàm của độ dốc đó\n",
    "def feature_derivative(errors, features):\n",
    "    derivative = np.sum(np.dot(errors, features))\n",
    "    return derivative"
   ]
  },
  {
   "cell_type": "code",
   "execution_count": 41,
   "id": "1009748a",
   "metadata": {},
   "outputs": [
    {
     "data": {
      "image/png": "[encoded data removed]",
      "text/plain": [
       "<IPython.core.display.Image object>"
      ]
     },
     "execution_count": 41,
     "metadata": {},
     "output_type": "execute_result"
    }
   ],
   "source": [
    "Image(filename='pic2.png')"
   ]
  },
  {
   "cell_type": "code",
   "execution_count": 79,
   "id": "eaef5cce",
   "metadata": {},
   "outputs": [],
   "source": [
    "# Tính bước tính này coi mk đã đi đúng hướng hay chưa\n",
    "def compute_log_likehood(feature_matrix, sentiment, coefficients):\n",
    "    # Tính toán toán tử 1\n",
    "    isone = (sentiment == 1)\n",
    "    #Thực hiện từng phần\n",
    "    dotfc = np.dot(feature_matrix, coefficients)\n",
    "    lnexp = np.log(1+np.exp(-dotfc))#thực hiện logarit\n",
    "    # Tránh kết quả vô hạn\n",
    "    mask = np.isinf(lnexp)\n",
    "    lnexp[mask]=-dotfc[mask]\n",
    "    #log-likelihood\n",
    "    ll = sum((isone - 1) * dotfc -lnexp)\n",
    "    return ll"
   ]
  },
  {
   "cell_type": "code",
   "execution_count": 43,
   "id": "a5ab1ab2",
   "metadata": {},
   "outputs": [
    {
     "data": {
      "image/png": "[encoded data removed]",
      "text/plain": [
       "<IPython.core.display.Image object>"
      ]
     },
     "execution_count": 43,
     "metadata": {},
     "output_type": "execute_result"
    }
   ],
   "source": [
    "Image(filename='pic3.png')"
   ]
  },
  {
   "cell_type": "code",
   "execution_count": 46,
   "id": "c6163fe5",
   "metadata": {},
   "outputs": [
    {
     "data": {
      "image/png": "[encoded data removed]",
      "text/plain": [
       "<IPython.core.display.Image object>"
      ]
     },
     "execution_count": 46,
     "metadata": {},
     "output_type": "execute_result"
    }
   ],
   "source": [
    "Image(filename='pic4.png')\n",
    "#Hàm hồi uy logistic"
   ]
  },
  {
   "cell_type": "code",
   "execution_count": 80,
   "id": "679796e4",
   "metadata": {},
   "outputs": [],
   "source": [
    "def logistic_regression(fearture_matrix, sentiment, initial_coefficients, step_size = 1, max_iter=301):\n",
    "    # Đảm bảo các hệ số ban dau là một mảng numpy\n",
    "    coefficients = np.array(initial_coefficients)\n",
    "    #Bắt đầu phương pháp gradient và dừng nó trong lần lặp tối đa\n",
    "    for itr in range(max_iter):\n",
    "        #đưa ra dự đoán với các hệ số trực tuyến hoặc được cập nhật\n",
    "        predictions = predict_probability(coefficients, np.transpose(feature_matrix))\n",
    "        indicator = (sentiment == 1)\n",
    "        errors = indicator - predictions\n",
    "    for j in range(len(coefficients)):\n",
    "        coefficients[j] = coefficients[j] + step_size * feature_derivative(errors, feature_matrix [:, j])\n",
    "        if itr % 30 == 0:\n",
    "            ll = compute_log_likehood(feature_matrix, sentiment, coefficients)\n",
    "            print(f\"Iteration {itr}: Log-likehood is {ll}\")\n",
    "    return coefficients"
   ]
  },
  {
   "cell_type": "code",
   "execution_count": 81,
   "id": "6bfcc74e",
   "metadata": {},
   "outputs": [
    {
     "name": "stdout",
     "output_type": "stream",
     "text": [
      "Iteration 300: Log-likehood is -1283135.0\n",
      "Iteration 300: Log-likehood is -2956930.0\n",
      "Iteration 300: Log-likehood is -23799512.5\n",
      "Iteration 300: Log-likehood is -21671163.782670178\n"
     ]
    },
    {
     "name": "stderr",
     "output_type": "stream",
     "text": [
      "C:\\Users\\Admin\\AppData\\Local\\Temp\\ipykernel_7092\\2647444616.py:7: RuntimeWarning: overflow encountered in exp\n",
      "  lnexp = np.log(1+np.exp(-dotfc))#thực hiện logarit\n"
     ]
    },
    {
     "name": "stdout",
     "output_type": "stream",
     "text": [
      "Iteration 300: Log-likehood is -21055342.95826698\n",
      "Iteration 300: Log-likehood is -29797341.009296607\n",
      "Iteration 300: Log-likehood is -37427332.24329932\n",
      "Iteration 300: Log-likehood is -37723695.80245593\n",
      "Iteration 300: Log-likehood is -34288383.63390198\n",
      "Iteration 300: Log-likehood is -32126806.591324244\n",
      "Iteration 300: Log-likehood is -31711014.85126147\n",
      "Iteration 300: Log-likehood is -30121101.606947705\n",
      "Iteration 300: Log-likehood is -29357437.728628445\n",
      "Iteration 300: Log-likehood is -33087049.070909884\n",
      "Iteration 300: Log-likehood is -32729371.91955505\n",
      "Iteration 300: Log-likehood is -32788565.344359003\n",
      "Iteration 300: Log-likehood is -32387106.37639982\n",
      "Iteration 300: Log-likehood is -34357005.60659596\n",
      "Iteration 300: Log-likehood is -34816012.70003046\n",
      "Iteration 300: Log-likehood is -37833448.288701914\n",
      "Iteration 300: Log-likehood is -37845998.15212731\n",
      "Iteration 300: Log-likehood is -37164605.6204974\n",
      "Iteration 300: Log-likehood is -37411982.134968266\n",
      "Iteration 300: Log-likehood is -37477787.917390935\n",
      "Iteration 300: Log-likehood is -37190923.160182595\n",
      "Iteration 300: Log-likehood is -37340235.650886446\n",
      "Iteration 300: Log-likehood is -37414991.959208734\n",
      "Iteration 300: Log-likehood is -36588536.28482612\n",
      "Iteration 300: Log-likehood is -36412868.81323762\n",
      "Iteration 300: Log-likehood is -37465527.14455968\n",
      "Iteration 300: Log-likehood is -37715564.88997908\n",
      "Iteration 300: Log-likehood is -37097623.61416884\n",
      "Iteration 300: Log-likehood is -37559095.887488715\n",
      "Iteration 300: Log-likehood is -38747190.85283114\n",
      "Iteration 300: Log-likehood is -37530612.25907617\n",
      "Iteration 300: Log-likehood is -36928600.82620641\n",
      "Iteration 300: Log-likehood is -36952177.734539606\n",
      "Iteration 300: Log-likehood is -37288674.11812666\n",
      "Iteration 300: Log-likehood is -37416849.53562431\n",
      "Iteration 300: Log-likehood is -37728848.59661271\n",
      "Iteration 300: Log-likehood is -37443561.78861128\n",
      "Iteration 300: Log-likehood is -37274560.482981384\n",
      "Iteration 300: Log-likehood is -37087755.58796688\n",
      "Iteration 300: Log-likehood is -37042477.419687085\n",
      "Iteration 300: Log-likehood is -37287205.68791897\n",
      "Iteration 300: Log-likehood is -37116750.71847929\n",
      "Iteration 300: Log-likehood is -41086110.5233357\n",
      "Iteration 300: Log-likehood is -42134726.997005984\n",
      "Iteration 300: Log-likehood is -41810036.01142669\n",
      "Iteration 300: Log-likehood is -41794862.027436316\n",
      "Iteration 300: Log-likehood is -42656901.00182864\n",
      "Iteration 300: Log-likehood is -42268067.28435689\n",
      "Iteration 300: Log-likehood is -42057440.92365342\n",
      "Iteration 300: Log-likehood is -42198277.05716796\n",
      "Iteration 300: Log-likehood is -42402529.27461024\n",
      "Iteration 300: Log-likehood is -42010398.24371058\n",
      "Iteration 300: Log-likehood is -41686933.70730275\n",
      "Iteration 300: Log-likehood is -41760739.14888419\n",
      "Iteration 300: Log-likehood is -41215322.21048875\n",
      "Iteration 300: Log-likehood is -40966507.5437886\n",
      "Iteration 300: Log-likehood is -40847203.6028373\n",
      "Iteration 300: Log-likehood is -40937814.141133994\n",
      "Iteration 300: Log-likehood is -40859354.971151225\n",
      "Iteration 300: Log-likehood is -40714831.80280219\n",
      "Iteration 300: Log-likehood is -40876034.08549664\n",
      "Iteration 300: Log-likehood is -40724750.450362906\n",
      "Iteration 300: Log-likehood is -40438029.89310071\n",
      "Iteration 300: Log-likehood is -41956412.81542761\n",
      "Iteration 300: Log-likehood is -42110266.71969382\n",
      "Iteration 300: Log-likehood is -45220758.71618032\n",
      "Iteration 300: Log-likehood is -45633763.56604097\n",
      "Iteration 300: Log-likehood is -45513624.545034535\n",
      "Iteration 300: Log-likehood is -45486368.010543905\n",
      "Iteration 300: Log-likehood is -45688398.961649485\n",
      "Iteration 300: Log-likehood is -45386298.16536033\n",
      "Iteration 300: Log-likehood is -45286899.09267207\n",
      "Iteration 300: Log-likehood is -44991941.2861664\n",
      "Iteration 300: Log-likehood is -45021455.38306435\n",
      "Iteration 300: Log-likehood is -48206207.61026068\n",
      "Iteration 300: Log-likehood is -48309415.657198444\n",
      "Iteration 300: Log-likehood is -48508283.14986432\n",
      "Iteration 300: Log-likehood is -47934033.44703892\n",
      "Iteration 300: Log-likehood is -48581751.891472705\n",
      "Iteration 300: Log-likehood is -48293596.84063394\n",
      "Iteration 300: Log-likehood is -48160184.79499987\n",
      "Iteration 300: Log-likehood is -47960787.263735205\n",
      "Iteration 300: Log-likehood is -46088538.76606992\n",
      "Iteration 300: Log-likehood is -45949016.26205607\n",
      "Iteration 300: Log-likehood is -45737979.22473808\n",
      "Iteration 300: Log-likehood is -45736980.22460778\n",
      "Iteration 300: Log-likehood is -45802403.15246885\n",
      "Iteration 300: Log-likehood is -45612734.14790638\n",
      "Iteration 300: Log-likehood is -46034607.162913166\n",
      "Iteration 300: Log-likehood is -130562819.10213599\n",
      "Iteration 300: Log-likehood is -130872094.62839442\n",
      "Iteration 300: Log-likehood is -130411893.50104061\n",
      "Iteration 300: Log-likehood is -131007134.08538787\n",
      "Iteration 300: Log-likehood is -131721291.5854045\n",
      "Iteration 300: Log-likehood is -132765464.08541451\n",
      "Iteration 300: Log-likehood is -133222160.53689367\n",
      "Iteration 300: Log-likehood is -133656205.8805016\n",
      "Iteration 300: Log-likehood is -134061959.92874315\n",
      "Iteration 300: Log-likehood is -134540130.92273045\n",
      "Iteration 300: Log-likehood is -135117237.93472043\n",
      "Iteration 300: Log-likehood is -135469331.46064326\n",
      "Iteration 300: Log-likehood is -135508746.96056932\n",
      "Iteration 300: Log-likehood is -135562141.93599793\n",
      "Iteration 300: Log-likehood is -135932972.9363337\n",
      "Iteration 300: Log-likehood is -136266517.8877503\n",
      "Iteration 300: Log-likehood is -136572645.89034924\n",
      "Iteration 300: Log-likehood is -136957990.37219316\n",
      "Iteration 300: Log-likehood is -137471252.86697733\n",
      "Iteration 300: Log-likehood is -138049258.91928422\n",
      "Iteration 300: Log-likehood is -138137572.41928422\n",
      "Iteration 300: Log-likehood is -138416382.39224082\n",
      "Iteration 300: Log-likehood is -138426150.39224082\n",
      "Iteration 300: Log-likehood is -138601366.42972875\n",
      "Iteration 300: Log-likehood is -139444396.87692988\n",
      "Iteration 300: Log-likehood is -139877470.69529894\n",
      "Iteration 300: Log-likehood is -140209010.72504938\n",
      "Iteration 300: Log-likehood is -140449000.22504663\n",
      "Iteration 300: Log-likehood is -140637239.53318644\n",
      "Iteration 300: Log-likehood is -141381728.0514873\n",
      "Iteration 300: Log-likehood is -141542353.4769771\n",
      "Iteration 300: Log-likehood is -141767729.47696528\n",
      "Iteration 300: Log-likehood is -142001091.9744896\n",
      "Iteration 300: Log-likehood is -141894871.1876663\n",
      "Iteration 300: Log-likehood is -141973485.65579057\n",
      "Iteration 300: Log-likehood is -141552070.55911192\n",
      "Iteration 300: Log-likehood is -141758226.55911195\n",
      "Iteration 300: Log-likehood is -142301649.5183726\n",
      "Iteration 300: Log-likehood is -142449037.21978587\n",
      "Iteration 300: Log-likehood is -142610752.21978587\n",
      "Iteration 300: Log-likehood is -142732405.13681737\n",
      "Iteration 300: Log-likehood is -143019721.130102\n",
      "Iteration 300: Log-likehood is -143176595.67891952\n",
      "Iteration 300: Log-likehood is -143256859.17891952\n",
      "Iteration 300: Log-likehood is -143373269.64139047\n",
      "Iteration 300: Log-likehood is -143782806.14139035\n",
      "Iteration 300: Log-likehood is -143938908.64230216\n",
      "Iteration 300: Log-likehood is -144081369.64230216\n",
      "Iteration 300: Log-likehood is -145155821.14257008\n",
      "Iteration 300: Log-likehood is -145255876.21703523\n",
      "Iteration 300: Log-likehood is -145260326.71736693\n",
      "Iteration 300: Log-likehood is -145233940.20800942\n",
      "Iteration 300: Log-likehood is -145179761.5065962\n",
      "Iteration 300: Log-likehood is -145472571.20606998\n",
      "Iteration 300: Log-likehood is -145452414.67723036\n",
      "Iteration 300: Log-likehood is -145591729.6772579\n",
      "Iteration 300: Log-likehood is -145892795.67636532\n",
      "Iteration 300: Log-likehood is -145981147.4411633\n",
      "Iteration 300: Log-likehood is -146415200.3627372\n",
      "Iteration 300: Log-likehood is -147509732.6127708\n",
      "Iteration 300: Log-likehood is -147816506.23132995\n",
      "Iteration 300: Log-likehood is -147822537.11925805\n",
      "Iteration 300: Log-likehood is -147972895.1557238\n",
      "Iteration 300: Log-likehood is -148347710.46969354\n",
      "Iteration 300: Log-likehood is -148489288.46969354\n",
      "Iteration 300: Log-likehood is -148433681.94308555\n",
      "Iteration 300: Log-likehood is -148553971.94308555\n",
      "Iteration 300: Log-likehood is -148684038.44308785\n",
      "Iteration 300: Log-likehood is -148781507.78193715\n",
      "Iteration 300: Log-likehood is -149922242.75328293\n",
      "Iteration 300: Log-likehood is -150041940.58833542\n",
      "Iteration 300: Log-likehood is -150166188.58833572\n",
      "Iteration 300: Log-likehood is -150282137.08162037\n",
      "Iteration 300: Log-likehood is -151577628.5776538\n",
      "Iteration 300: Log-likehood is -151665762.5776538\n",
      "Iteration 300: Log-likehood is -151764633.887177\n",
      "Iteration 300: Log-likehood is -151803100.387177\n"
     ]
    },
    {
     "name": "stdout",
     "output_type": "stream",
     "text": [
      "Iteration 300: Log-likehood is -151849174.387177\n",
      "Iteration 300: Log-likehood is -151934466.38718316\n",
      "Iteration 300: Log-likehood is -152058220.01411116\n",
      "Iteration 300: Log-likehood is -151999697.01932427\n",
      "Iteration 300: Log-likehood is -152133469.4707378\n",
      "Iteration 300: Log-likehood is -152222529.9707832\n",
      "Iteration 300: Log-likehood is -152330284.9707832\n",
      "Iteration 300: Log-likehood is -152469581.97326502\n",
      "Iteration 300: Log-likehood is -152567405.97281274\n",
      "Iteration 300: Log-likehood is -153578560.66362336\n",
      "Iteration 300: Log-likehood is -153690154.16361722\n",
      "Iteration 300: Log-likehood is -153780083.66361722\n",
      "Iteration 300: Log-likehood is -153386436.02844408\n",
      "Iteration 300: Log-likehood is -153508444.02844408\n",
      "Iteration 300: Log-likehood is -153440237.54357025\n",
      "Iteration 300: Log-likehood is -153605118.53330755\n",
      "Iteration 300: Log-likehood is -153693402.03455445\n",
      "Iteration 300: Log-likehood is -153613029.6427879\n",
      "Iteration 300: Log-likehood is -153698944.64686635\n",
      "Iteration 300: Log-likehood is -153651299.44049323\n",
      "Iteration 300: Log-likehood is -153732274.25371957\n",
      "Iteration 300: Log-likehood is -153898211.24977222\n",
      "Iteration 300: Log-likehood is -153924184.74977222\n",
      "Iteration 300: Log-likehood is -154029165.74293348\n"
     ]
    }
   ],
   "source": [
    "coefficients = logistic_regression(feature_matrix, sentiment, initial_coefficients=np.zeros(194))"
   ]
  },
  {
   "cell_type": "code",
   "execution_count": 74,
   "id": "a31101f7",
   "metadata": {},
   "outputs": [
    {
     "data": {
      "text/plain": [
       "array([0, 0, 0, ..., 0, 1, 0], dtype=int64)"
      ]
     },
     "execution_count": 74,
     "metadata": {},
     "output_type": "execute_result"
    }
   ],
   "source": [
    "feature_matrix[:,1]"
   ]
  },
  {
   "cell_type": "code",
   "execution_count": 83,
   "id": "0b7d8862",
   "metadata": {},
   "outputs": [
    {
     "ename": "NameError",
     "evalue": "name 'feature_matrix_test' is not defined",
     "output_type": "error",
     "traceback": [
      "\u001b[1;31m---------------------------------------------------------------------------\u001b[0m",
      "\u001b[1;31mNameError\u001b[0m                                 Traceback (most recent call last)",
      "Input \u001b[1;32mIn [83]\u001b[0m, in \u001b[0;36m<cell line: 1>\u001b[1;34m()\u001b[0m\n\u001b[1;32m----> 1\u001b[0m pred \u001b[38;5;241m=\u001b[39m predict_probability(\u001b[43mfeature_matrix_test\u001b[49m,coefficients )\n\u001b[0;32m      2\u001b[0m pred\n",
      "\u001b[1;31mNameError\u001b[0m: name 'feature_matrix_test' is not defined"
     ]
    }
   ],
   "source": [
    "pred = predict_probability(feature_matrix_test,coefficients )\n",
    "pred"
   ]
  },
  {
   "cell_type": "code",
   "execution_count": null,
   "id": "cc1ee374",
   "metadata": {},
   "outputs": [],
   "source": []
  }
 ],
 "metadata": {
  "kernelspec": {
   "display_name": "Python 3 (ipykernel)",
   "language": "python",
   "name": "python3"
  },
  "language_info": {
   "codemirror_mode": {
    "name": "ipython",
    "version": 3
   },
   "file_extension": ".py",
   "mimetype": "text/x-python",
   "name": "python",
   "nbconvert_exporter": "python",
   "pygments_lexer": "ipython3",
   "version": "3.9.12"
  }
 },
 "nbformat": 4,
 "nbformat_minor": 5
}
